{
 "cells": [
  {
   "cell_type": "markdown",
   "metadata": {},
   "source": [
    "#### Initial conditions\n",
    "\n",
    "Code for generating initial conditions files. Inspired by [this file](https://gitlab.mpcdf.mpg.de/vrs/gadget4/-/blob/master/examples/G2-gassphere/create_initial_conditions.py?ref_type=heads). "
   ]
  },
  {
   "cell_type": "code",
   "execution_count": 1,
   "metadata": {},
   "outputs": [],
   "source": [
    "# load libraries\n",
    "import numpy as np  # load numpy\n",
    "import h5py    # hdf5 format \n",
    "from matplotlib import pyplot as plt\n",
    "\n",
    "import sys\n",
    "sys.path.append(\"../..\")\n",
    "import units as u\n",
    "#Note that the units in this module are defined in cgs units\n",
    "#(i.e. cm = g = s = 1). So e.g. u.Msun is Solar mass in grams"
   ]
  },
  {
   "cell_type": "code",
   "execution_count": 2,
   "metadata": {},
   "outputs": [],
   "source": [
    "FloatType = np.float64  # double precision: np.float64, for single use np.float32\n",
    "IntType = np.int32"
   ]
  },
  {
   "cell_type": "markdown",
   "metadata": {},
   "source": [
    "#### Create ICs for a cluster of light objects"
   ]
  },
  {
   "cell_type": "code",
   "execution_count": 3,
   "metadata": {},
   "outputs": [],
   "source": [
    "#Initial condition parameters\n",
    "filename = 'IC_cluster.hdf5'"
   ]
  },
  {
   "cell_type": "code",
   "execution_count": 4,
   "metadata": {},
   "outputs": [
    {
     "name": "stdout",
     "output_type": "stream",
     "text": [
      "Size of the region in code units: 6.780048339457325e-10\n",
      "Collapse timescale, in code units: 0.00211560064993122\n"
     ]
    }
   ],
   "source": [
    "number_particles = 100\n",
    "\n",
    "#Initialise the vectors of positions, velocities, masses, and particle IDs\n",
    "Pos = np.zeros((number_particles,3), dtype=FloatType)\n",
    "Vel = np.zeros((number_particles,3), dtype=FloatType)\n",
    "Mass = np.zeros((number_particles,1), dtype=FloatType)\n",
    "ids = np.arange(number_particles)\n",
    "\n",
    "#Set the masses for the objects\n",
    "m = 1e-15*u.Msun\n",
    "Mass[:] = m\n",
    "m_total = m*number_particles\n",
    "\n",
    "L = 1e-3*u.pc\n",
    "print(\"Size of the region in code units:\", L/u.Lcode)\n",
    "\n",
    "#Uniformly sample the positions of the particle within \n",
    "#a sphere of radius L\n",
    "rs = L*(np.random.rand(number_particles))**(1/3)\n",
    "thetas = np.arccos(2*np.random.rand(number_particles) - 1)\n",
    "phis = 2*np.pi*np.random.rand(number_particles)\n",
    "\n",
    "xs = rs*np.sin(thetas)*np.cos(phis)\n",
    "ys = rs*np.sin(thetas)*np.sin(phis)\n",
    "zs = rs*np.cos(thetas)\n",
    "\n",
    "Pos[:,0] = xs\n",
    "Pos[:,1] = ys\n",
    "Pos[:,2] = zs\n",
    "\n",
    "#Check the collapse timescale in code units\n",
    "#which will be useful for knowing how long\n",
    "#to run the simulation!\n",
    "V = (4*np.pi/3)*L**3\n",
    "rho = m_total/V\n",
    "Tcoll = np.sqrt(1/(u.G*rho))/u.Tcode\n",
    "\n",
    "print(\"Collapse timescale, in code units:\", Tcoll)"
   ]
  },
  {
   "cell_type": "markdown",
   "metadata": {},
   "source": [
    "Note that we'll run the simulations for about half of the collapse timescale, just to see the initial phase of the collapse, so that the trajectories are easy to visualise (once the system has collapsed the dynamics becomes more complicated, but there's no reason you can't run for that long). "
   ]
  },
  {
   "cell_type": "markdown",
   "metadata": {},
   "source": [
    "#### The Initial conditions file\n",
    "\n",
    "Now we'll write the initial conditions file. We'll write it in hdf5 format (which is the recommended one). For this, we need to set\n",
    "```\n",
    "%---- File formats\n",
    "ICFormat             3\n",
    "SnapFormat           3 \n",
    "```\n",
    "in the `param.txt` file when we run Gadget4."
   ]
  },
  {
   "cell_type": "code",
   "execution_count": 5,
   "metadata": {},
   "outputs": [],
   "source": [
    "# Open the hdf5 file\n",
    "IC = h5py.File(filename, 'w')\n",
    "\n",
    "## Create hdf5 groups\n",
    "header = IC.create_group(\"Header\")\n",
    "part0 = IC.create_group(\"PartType0\")\n",
    "part1 = IC.create_group(\"PartType1\")"
   ]
  },
  {
   "cell_type": "markdown",
   "metadata": {},
   "source": [
    "The hdf5 file consists of several 'groups'.\n",
    "\n",
    "The \"Header\" group contains meta-information about the simulation, like particle numbers etc.\n",
    "\n",
    "The different \"PartType0\", \"PartType1\", \"PartType2\", etc groups contain initial conditions for the different Particle Types in Gadget4. The number of particle types is controlled by the `NTYPES` parameter in the `Config.sh` file. Having different particle types can be useful to keep track of several different classes of particles (DM, Stars, etc).\n",
    "\n",
    "Type 0 particles are always hydrodynamical particles (i.e. gas). We don't want any of them, so we will put our particles in the `part1` object (for \"PartType1\"). "
   ]
  },
  {
   "cell_type": "code",
   "execution_count": 6,
   "metadata": {},
   "outputs": [],
   "source": [
    "## header entries\n",
    "#This is the number of particles in each Particle Type\n",
    "#Like we said, we want 0 in Type 0 and number_particles in Type 1.\n",
    "NumPart = np.array([0,number_particles], dtype=IntType)\n",
    "\n",
    "#Now we specify a bunch of header parameters\n",
    "header.attrs.create(\"NumPart_ThisFile\", NumPart)\n",
    "header.attrs.create(\"NumPart_Total\", NumPart)\n",
    "header.attrs.create(\"NumPart_Total_HighWord\", np.zeros(2, dtype=IntType) )\n",
    "header.attrs.create(\"MassTable\", np.zeros(2, dtype=IntType) )\n",
    "header.attrs.create(\"Time\", 0.0)\n",
    "header.attrs.create(\"Redshift\", 0.0)\n",
    "header.attrs.create(\"BoxSize\", 0)\n",
    "header.attrs.create(\"NumFilesPerSnapshot\", 1)\n",
    "\n",
    "header.attrs.create(\"Omega0\", 0.0)\n",
    "header.attrs.create(\"OmegaB\", 0.0)\n",
    "header.attrs.create(\"OmegaLambda\", 0.0)\n",
    "header.attrs.create(\"HubbleParam\", 1.0)\n",
    "\n",
    "if Pos.dtype == np.float64:\n",
    "    header.attrs.create(\"Flag_DoublePrecision\", 1)\n",
    "else:\n",
    "    header.attrs.create(\"Flag_DoublePrecision\", 0)\n",
    "\n",
    "## Copy datasets\n",
    "#Note that we set the datasets in part1, not part0\n",
    "#because part0 corresponds to hydrodynamical particles\n",
    "#and we want gravity only.\n",
    "part1.create_dataset(\"ParticleIDs\", data=ids)\n",
    "part1.create_dataset(\"Coordinates\", data=Pos/u.Lcode)\n",
    "part1.create_dataset(\"Masses\", data=Mass/u.Mcode)\n",
    "part1.create_dataset(\"Velocities\", data=Vel/u.Vcode)\n",
    "\n",
    "IC.close()"
   ]
  },
  {
   "cell_type": "markdown",
   "metadata": {},
   "source": [
    "## Important\n",
    "\n",
    "Note that when we copy the positions, velocities and masses over into the initial conditions file, we divide by `u.Lcode` etc in order to get them into code units!"
   ]
  }
 ],
 "metadata": {
  "kernelspec": {
   "display_name": "igwn-py38",
   "language": "python",
   "name": "igwn-py38"
  },
  "language_info": {
   "codemirror_mode": {
    "name": "ipython",
    "version": 3
   },
   "file_extension": ".py",
   "mimetype": "text/x-python",
   "name": "python",
   "nbconvert_exporter": "python",
   "pygments_lexer": "ipython3",
   "version": "3.8.6"
  }
 },
 "nbformat": 4,
 "nbformat_minor": 4
}
