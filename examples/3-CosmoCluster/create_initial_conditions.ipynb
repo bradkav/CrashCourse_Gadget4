{
 "cells": [
  {
   "cell_type": "markdown",
   "metadata": {},
   "source": [
    "#### Initial conditions\n",
    "\n",
    "Code for generating initial conditions files. Inspired by [this file](https://gitlab.mpcdf.mpg.de/vrs/gadget4/-/blob/master/examples/G2-gassphere/create_initial_conditions.py?ref_type=heads). "
   ]
  },
  {
   "cell_type": "code",
   "execution_count": 1,
   "metadata": {},
   "outputs": [],
   "source": [
    "# load libraries\n",
    "import numpy as np  # load numpy\n",
    "import h5py    # hdf5 format \n",
    "from matplotlib import pyplot as plt\n",
    "\n",
    "import sys\n",
    "sys.path.append(\"../..\")\n",
    "import units as u\n",
    "#Note that the units in this module are defined in cgs units\n",
    "#(i.e. cm = g = s = 1). So e.g. u.Msun is Solar mass in grams"
   ]
  },
  {
   "cell_type": "code",
   "execution_count": 2,
   "metadata": {},
   "outputs": [],
   "source": [
    "FloatType = np.float64  # double precision: np.float64, for single use np.float32\n",
    "IntType = np.int32"
   ]
  },
  {
   "cell_type": "markdown",
   "metadata": {},
   "source": [
    "#### Create ICs for a shell of light objects"
   ]
  },
  {
   "cell_type": "code",
   "execution_count": 3,
   "metadata": {},
   "outputs": [],
   "source": [
    "#Initial condition parameters\n",
    "filename = 'IC_cosmo.hdf5'"
   ]
  },
  {
   "cell_type": "code",
   "execution_count": 4,
   "metadata": {},
   "outputs": [],
   "source": [
    "number_particles = 1000\n",
    "\n",
    "#Initialise the vectors of positions, velocities, masses, and particle IDs\n",
    "Pos = np.zeros((number_particles,3), dtype=FloatType)\n",
    "Vel = np.zeros((number_particles,3), dtype=FloatType)\n",
    "Mass = np.zeros((number_particles,1), dtype=FloatType)\n",
    "ids = np.arange(number_particles)"
   ]
  },
  {
   "cell_type": "code",
   "execution_count": 5,
   "metadata": {},
   "outputs": [
    {
     "name": "stdout",
     "output_type": "stream",
     "text": [
      "(Comoving) Radius of the shell in code units: 0.0006780048339457325\n",
      "246.8229491235181\n",
      "0.24682294912351813\n"
     ]
    }
   ],
   "source": [
    "#Let's define a space of comoving radius L, which contains a density rho = rho_bg * (1 + delta)\n",
    "delta = 0.5\n",
    "\n",
    "#Cosmological parameters\n",
    "Omega0 = 0.308\n",
    "OmegaLambda = 0.692\n",
    "rho_c0 = 3*(u.h * 100 * (u.km/u.s)/u.Mpc)**2/(8*np.pi*u.G)\n",
    "\n",
    "\n",
    "#Initial scale factor and density\n",
    "ai = 1e-2\n",
    "rhoi = (1 + delta) * rho_c0 * (Omega0 * ai**-3 + OmegaLambda)\n",
    "\n",
    "#Radius L of the region\n",
    "L = 1.0*u.kpc\n",
    "L_phys = ai*L\n",
    "print(\"(Comoving) Radius of the shell in code units:\", L/u.Lcode)\n",
    "\n",
    "#Set the mass of the particles based on the desired density\n",
    "V = (4*np.pi/3)*(L_phys)**3\n",
    "m_total = rhoi*V\n",
    "m = m_total/number_particles\n",
    "\n",
    "#Set the masses for the objects\n",
    "Mass[:] = m\n",
    "\n",
    "#Uniformly sample the positions of the particle within \n",
    "#a sphere of radius L\n",
    "rs = L*(np.random.rand(number_particles))**(1/3)\n",
    "#rs = L*np.ones(number_particles)\n",
    "thetas = np.arccos(2*np.random.rand(number_particles) - 1)\n",
    "phis = 2*np.pi*np.random.rand(number_particles)\n",
    "\n",
    "xs = rs*np.sin(thetas)*np.cos(phis)\n",
    "ys = rs*np.sin(thetas)*np.sin(phis)\n",
    "zs = rs*np.cos(thetas)\n",
    "\n",
    "#Centre the system at zero\n",
    "Pos[:,0] = xs - np.mean(xs)\n",
    "Pos[:,1] = ys - np.mean(ys)\n",
    "Pos[:,2] = zs - np.mean(zs)"
   ]
  },
  {
   "cell_type": "markdown",
   "metadata": {},
   "source": [
    "#### The Initial conditions file\n",
    "\n",
    "Now we'll write the initial conditions file. We'll write it in hdf5 format (which is the recommended one). For this, we need to set\n",
    "```\n",
    "%---- File formats\n",
    "ICFormat             3\n",
    "SnapFormat           3 \n",
    "```\n",
    "in the `param.txt` file when we run Gadget4.\n",
    "\n",
    "**NOTE:** When we run in cosmological mode (`ComovingIntegrationOn 1`), the positions, velocities etc that we pass to Gadget4 (and the numbers that are saving to the snapshot files) are *comoving* coordinates."
   ]
  },
  {
   "cell_type": "code",
   "execution_count": 6,
   "metadata": {},
   "outputs": [],
   "source": [
    "# Open the hdf5 file\n",
    "IC = h5py.File(filename, 'w')\n",
    "\n",
    "## Create hdf5 groups\n",
    "header = IC.create_group(\"Header\")\n",
    "part0 = IC.create_group(\"PartType0\")\n",
    "part1 = IC.create_group(\"PartType1\")\n",
    "\n",
    "## header entries\n",
    "#This is the number of particles in each Particle Type\n",
    "#Like we said, we want 0 in Type 0 and number_particles in Type 1.\n",
    "NumPart = np.array([0,number_particles], dtype=IntType)\n",
    "\n",
    "#Now we specify a bunch of header parameters\n",
    "header.attrs.create(\"NumPart_ThisFile\", NumPart)\n",
    "header.attrs.create(\"NumPart_Total\", NumPart)\n",
    "header.attrs.create(\"NumPart_Total_HighWord\", np.zeros(2, dtype=IntType) )\n",
    "header.attrs.create(\"MassTable\", np.zeros(2, dtype=IntType) )\n",
    "header.attrs.create(\"Time\", 0.0)\n",
    "header.attrs.create(\"Redshift\", 0.0)\n",
    "header.attrs.create(\"BoxSize\", 0)\n",
    "header.attrs.create(\"NumFilesPerSnapshot\", 1)\n",
    "\n",
    "header.attrs.create(\"Omega0\", 0.308)\n",
    "header.attrs.create(\"OmegaB\", 0.0482)\n",
    "header.attrs.create(\"OmegaLambda\", 0.692)\n",
    "header.attrs.create(\"HubbleParam\", 0.678)\n",
    "\n",
    "if Pos.dtype == np.float64:\n",
    "    header.attrs.create(\"Flag_DoublePrecision\", 1)\n",
    "else:\n",
    "    header.attrs.create(\"Flag_DoublePrecision\", 0)\n",
    "\n",
    "## Copy datasets\n",
    "#Note that we set the datasets in part1, not part0\n",
    "#because part0 corresponds to hydrodynamical particles\n",
    "#and we want gravity only.\n",
    "part1.create_dataset(\"ParticleIDs\", data=ids)\n",
    "part1.create_dataset(\"Coordinates\", data=Pos/u.Lcode)\n",
    "part1.create_dataset(\"Masses\", data=Mass/u.Mcode)\n",
    "part1.create_dataset(\"Velocities\", data=Vel/u.Vcode)\n",
    "\n",
    "IC.close()"
   ]
  }
 ],
 "metadata": {
  "kernelspec": {
   "display_name": "igwn-py38",
   "language": "python",
   "name": "igwn-py38"
  },
  "language_info": {
   "codemirror_mode": {
    "name": "ipython",
    "version": 3
   },
   "file_extension": ".py",
   "mimetype": "text/x-python",
   "name": "python",
   "nbconvert_exporter": "python",
   "pygments_lexer": "ipython3",
   "version": "3.8.6"
  }
 },
 "nbformat": 4,
 "nbformat_minor": 4
}
